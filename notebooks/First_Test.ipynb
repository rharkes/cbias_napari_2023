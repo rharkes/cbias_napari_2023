{
 "cells": [
  {
   "cell_type": "code",
   "execution_count": 1,
   "id": "6f0199f1-184d-4451-be18-a9340beda209",
   "metadata": {},
   "outputs": [],
   "source": [
    "%gui qt5\n",
    "from skimage.data import cells3d\n",
    "import napari"
   ]
  },
  {
   "cell_type": "code",
   "execution_count": 2,
   "id": "717cbd0c-a458-4543-96ef-e3ea68c3ec06",
   "metadata": {},
   "outputs": [
    {
     "data": {
      "text/plain": [
       "1"
      ]
     },
     "execution_count": 2,
     "metadata": {},
     "output_type": "execute_result"
    }
   ],
   "source": [
    "import torch\n",
    "torch.cuda.device_count()"
   ]
  },
  {
   "cell_type": "code",
   "execution_count": 3,
   "id": "9a7df062-523a-497b-9eca-7f0284eab575",
   "metadata": {},
   "outputs": [
    {
     "data": {
      "text/plain": [
       "'NVIDIA GeForce RTX 2070 with Max-Q Design'"
      ]
     },
     "execution_count": 3,
     "metadata": {},
     "output_type": "execute_result"
    }
   ],
   "source": [
    "torch.cuda.get_device_name(0)"
   ]
  },
  {
   "cell_type": "code",
   "execution_count": 4,
   "id": "2dcfdfc6-77c4-42b8-8d26-3a1b38f98603",
   "metadata": {},
   "outputs": [],
   "source": [
    "viewer = napari.Viewer()\n",
    "# WAIT after this cell the napri viewer will show in about 30 seconds."
   ]
  },
  {
   "cell_type": "code",
   "execution_count": 5,
   "id": "9a5cee6e-5d4e-4cf4-ac72-86e40f90e3c2",
   "metadata": {},
   "outputs": [
    {
     "name": "stdout",
     "output_type": "stream",
     "text": [
      "Dataset shape = (60, 2, 256, 256)\n"
     ]
    }
   ],
   "source": [
    "dataset = cells3d()\n",
    "print(f\"Dataset shape = {dataset.shape}\")"
   ]
  },
  {
   "cell_type": "code",
   "execution_count": 6,
   "id": "f3c3974a-174f-4ffd-93a2-f2dbf2d0ad17",
   "metadata": {},
   "outputs": [
    {
     "data": {
      "text/plain": [
       "<Image layer 'nucleus' at 0x2515c84b690>"
      ]
     },
     "execution_count": 6,
     "metadata": {},
     "output_type": "execute_result"
    }
   ],
   "source": [
    "viewer.add_image(dataset[:,0,:,:], name='membrane', colormap='magenta')\n",
    "viewer.add_image(dataset[:,1,:,:], name='nucleus', colormap='cyan', blending='additive')"
   ]
  },
  {
   "cell_type": "code",
   "execution_count": 7,
   "id": "29f83ec7-b0d4-41a3-acf1-cc440ecd07c4",
   "metadata": {},
   "outputs": [],
   "source": [
    "img = viewer.layers[1].data"
   ]
  },
  {
   "cell_type": "code",
   "execution_count": 8,
   "id": "60a1384d-823b-4518-9e92-e039cb21b7d2",
   "metadata": {},
   "outputs": [],
   "source": [
    "binary = img>10000"
   ]
  },
  {
   "cell_type": "code",
   "execution_count": 9,
   "id": "fe017ad4-91d8-483e-871e-3a6df84f756b",
   "metadata": {},
   "outputs": [
    {
     "data": {
      "text/plain": [
       "<Image layer 'binary' at 0x25167692c50>"
      ]
     },
     "execution_count": 9,
     "metadata": {},
     "output_type": "execute_result"
    }
   ],
   "source": [
    "viewer.add_image(binary, name='binary')"
   ]
  },
  {
   "cell_type": "code",
   "execution_count": null,
   "id": "458a171c-ebb0-47e6-ba91-f855085d7aac",
   "metadata": {},
   "outputs": [],
   "source": [
    "viewer.close_all()"
   ]
  }
 ],
 "metadata": {
  "kernelspec": {
   "display_name": "Python 3 (ipykernel)",
   "language": "python",
   "name": "python3"
  },
  "language_info": {
   "codemirror_mode": {
    "name": "ipython",
    "version": 3
   },
   "file_extension": ".py",
   "mimetype": "text/x-python",
   "name": "python",
   "nbconvert_exporter": "python",
   "pygments_lexer": "ipython3",
   "version": "3.11.6"
  }
 },
 "nbformat": 4,
 "nbformat_minor": 5
}
